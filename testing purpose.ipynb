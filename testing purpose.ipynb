{
 "cells": [
  {
   "cell_type": "code",
   "execution_count": 1,
   "metadata": {},
   "outputs": [],
   "source": [
    "#python manage.py shell_plus --notebook\n",
    "import os, sys\n",
    "os.chdir(os.path.dirname(os.path.realpath('.')))\n",
    "sys.path.insert(0, os.getenv('PWD'))\n",
    "os.environ.setdefault(\"DJANGO_SETTINGS_MODULE\", \"local_settings.py\")\n",
    "import django\n",
    "django.setup()"
   ]
  },
  {
   "cell_type": "code",
   "execution_count": null,
   "metadata": {},
   "outputs": [],
   "source": [
    "from users.common import *\n",
    "from users.models import *"
   ]
  },
  {
   "cell_type": "code",
   "execution_count": 9,
   "metadata": {},
   "outputs": [],
   "source": [
    "from rest_framework.permissions import BasePermission\n",
    "from django.contrib.auth.models import User\n",
    "from django.contrib.auth import authenticate\n",
    "from users.permissions import *\n",
    "import sys\n",
    "from users.models import *\n",
    "from lims.models import *\n",
    "\n",
    "class fundamental():\n",
    "    def str_to_class(self,classname):\n",
    "        return getattr(sys.modules[__name__], classname)\n",
    "    def get_class_name(self,classobj):\n",
    "        return classobj.__name__\n",
    "    def get_model_id(self,classobj):\n",
    "        class_name=self.get_class_name(classobj)\n",
    "        return Module.objects.get(module=class_name).id\n",
    "    def get_role_id(self,username):\n",
    "        return ProfileRole.objects.get(user__user__username=username).role_id\n",
    "    def get_role_name(self,username):\n",
    "        return ProfileRole.objects.get(user__user__username=username).role.role\n",
    "    def get_model_fields(self,model):\n",
    "        return model._meta.fields\n",
    "    def user_role_permission(self,username):\n",
    "        try:\n",
    "            profile_role = ProfileRole.objects.get(user__user__username=username)\n",
    "            roles = {}\n",
    "            role_perm=RolePermission.objects.filter(role=profile_role.role)\n",
    "            model_perm = {}\n",
    "            for permission_set in role_perm:\n",
    "                module = Module.objects.get(id=permission_set.module_id).module\n",
    "                model_perm[permission_set.module_id] = {}\n",
    "                model_perm[permission_set.module_id]['module'] = module\n",
    "                model_perm[permission_set.module_id]['create'] = permission_set.create\n",
    "                model_perm[permission_set.module_id]['read'] = permission_set.read\n",
    "                model_perm[permission_set.module_id]['update'] = permission_set.update\n",
    "                model_perm[permission_set.module_id]['delete'] = permission_set.delete\n",
    "                model_perm[permission_set.module_id]['type'] = permission_set.type\n",
    "                model_perm[permission_set.module_id]['scope'] = permission_set.scope\n",
    "            roles = {}\n",
    "            roles['role_name']=fundamental().get_role_name(username)\n",
    "            roles['permissions']=model_perm\n",
    "            return roles\n",
    "        except Exception as e:\n",
    "            return e  \n",
    "    def get_all_models(self):\n",
    "        module_dict = {}\n",
    "        for module in Module.objects.all():\n",
    "            module_dict[module.module]=fundamental().str_to_class(module.module)\n",
    "        return module_dict\n",
    "    \n",
    "    def skip_check(self,view,request):\n",
    "        try:\n",
    "            if (view.read in [True,False] and view.id) and str(request.method) == 'GET':\n",
    "                return view.read\n",
    "        except:\n",
    "            pass\n",
    "        try:\n",
    "            if view.list in [True,False] and str(request.method) == 'GET':\n",
    "                return view.list\n",
    "        except:\n",
    "            pass\n",
    "        try:\n",
    "            if view.create in [True,False] and str(request.method) == 'POST':\n",
    "                return view.create\n",
    "        except:\n",
    "            pass\n",
    "        try:\n",
    "            if view.update in [True,False] and str(request.method) == 'PUT':\n",
    "                return view.update\n",
    "        except:\n",
    "            pass\n",
    "        try:\n",
    "            if view.delete == True and str(request.method) == 'DELETE':\n",
    "                return view.delete\n",
    "        except:\n",
    "            pass\n",
    "        return None"
   ]
  },
  {
   "cell_type": "code",
   "execution_count": null,
   "metadata": {},
   "outputs": [],
   "source": [
    "print(fundamental().get_model_id(Section))\n",
    "module=Section\n",
    "module_id=Module.objects.get(module=fundamental().get_class_name(module)).id\n",
    "print(module_id)"
   ]
  },
  {
   "cell_type": "code",
   "execution_count": null,
   "metadata": {},
   "outputs": [],
   "source": [
    "class get_query(object):\n",
    "    def __init__(self,request,model):\n",
    "        self.model=model\n",
    "        self.model_name=fundamental().get_class_name(model)\n",
    "        self.model_id=fundamental().get_model_id(model)\n",
    "        self.method=request.method\n",
    "        self.models=fundamental().get_all_models()\n",
    "        if request.user.is_authenticated:\n",
    "            self.role_id=fundamental().get_role_id(self.username)\n",
    "            self.user=request.user\n",
    "            self.username=request.user.username\n",
    "            self.role_name=fundamental().get_role_name(self.username)\n",
    "\n",
    "    def queryset(self):\n",
    "        module=self.model\n",
    "        module_id=fundamental().get_model_id(module)\n",
    "        if not self.user.is_authenticated:\n",
    "            return module.objects.none()\n",
    "        username=self.username\n",
    "        try:\n",
    "            if fundamental().user_role_permission(username)['permissions'][module_id]['scope'] == None:\n",
    "                filter_set=None\n",
    "                value=None\n",
    "                query_set=module.objects.all()\n",
    "                print('all')\n",
    "                pass\n",
    "        except:\n",
    "            try:\n",
    "                #check scope.filter_set, scope.value\n",
    "                scope=fundamental().user_role_permission(username)['permissions'][module_id]['scope']\n",
    "                scope_instance=scope#Scope.objects.get(id=scope.id)\n",
    "                filter_set=scope_instance.filter_set\n",
    "                exec('auto_value='+str(scope_instance.value))\n",
    "                if isinstance(auto_value, str):\n",
    "                    filter_string=filter_set+'='+'\"'+auto_value+'\"'\n",
    "                str1=fundamental().get_class_name(module)+'.objects.filter('+filter_string+')'\n",
    "                str1='query_set='+str1\n",
    "                print(str1)\n",
    "                exec(str1)\n",
    "            except:\n",
    "                query_set=module.objects.none()\n",
    "                print('None')\n",
    "        return query_set\n",
    "\n",
    "class CustomPermission():\n",
    "    def has_permission(self,request,view):\n",
    "        if fundamental().skip_check(view,request) in [True,False]:\n",
    "            return fundamental().skip_check(view,request) in [True,False]\n",
    "        try:\n",
    "            username=request.user.username\n",
    "            module=view.model\n",
    "            method=request.method\n",
    "            module_id=fundamental().get_model_id(module)\n",
    "            method_dict={'GET':'read','POST':'create','PUT':'update','DELETE':'delete'}\n",
    "            method=method_dict[method]\n",
    "            return fundamental().user_role_permission(username)['permissions'][module_id][method]\n",
    "        except Exception as e:\n",
    "            print(e)\n",
    "            return False\n",
    "\n",
    "    def has_object_permission(self, request, view, obj):\n",
    "        try:\n",
    "            pk=view.kwargs['pk']\n",
    "            return queryset(request.user.username,view.model).filter(id=pk).count()>0\n",
    "        except Exception as e:\n",
    "            print(e)\n",
    "            return True"
   ]
  },
  {
   "cell_type": "code",
   "execution_count": null,
   "metadata": {},
   "outputs": [],
   "source": [
    "def get_queryset(self):\n",
    "    print(self.model.__name__)\n",
    "    return get_query(request.user.username,self.model,request.method).queryset()"
   ]
  },
  {
   "cell_type": "code",
   "execution_count": null,
   "metadata": {},
   "outputs": [],
   "source": [
    "from django.contrib.auth.models import User\n",
    "from django.contrib.auth import authenticate\n",
    "from rest_framework.permissions import BasePermission\n",
    "from users.filter import *\n",
    "\n",
    "class CustomPermission(BasePermission):\n",
    "    message = 'You do not have permission to perform this action.'\n",
    "    def has_permission(self, request, view):\n",
    "        try:\n",
    "            if (view.read in [True,False] and view.id) and str(request.method) == 'GET':\n",
    "                return view.read\n",
    "        except:\n",
    "            pass\n",
    "        try:\n",
    "            if view.list in [True,False] and str(request.method) == 'GET':\n",
    "                return view.list\n",
    "        except:\n",
    "            pass\n",
    "        try:\n",
    "            if view.create in [True,False] and str(request.method) == 'POST':\n",
    "                return view.create\n",
    "        except:\n",
    "            pass\n",
    "        try:\n",
    "            if view.update in [True,False] and str(request.method) == 'PUT':\n",
    "                return view.update\n",
    "        except:\n",
    "            pass\n",
    "        try:\n",
    "            if view.delete == True and str(request.method) == 'DELETE':\n",
    "                return view.delete\n",
    "        except:\n",
    "            pass\n",
    "        try:\n",
    "            username=str(request.user.username)\n",
    "            self.username=username\n",
    "            roles=fundamental().user_role_permission(username)\n",
    "            model_id=fundamental().get_model_id(view.model)\n",
    "            method=str(request.method)\n",
    "            result=False\n",
    "            if fundamental().get_model_id(view.model) in roles['permissions'].keys():\n",
    "                self.message='nddd'\n",
    "                if method=='GET':\n",
    "                    result= roles['permissions'][model_id]['read']\n",
    "                elif method=='POST':\n",
    "                    result= roles['permissions'][model_id]['create']\n",
    "                elif method=='PUT':\n",
    "                    result= roles['permissions'][model_id]['update']\n",
    "                elif method=='DELETE':\n",
    "                    result= roles['permissions'][model_id]['delete']\n",
    "                else:\n",
    "                    result= False\n",
    "            return result\n",
    "        except Exception as e:\n",
    "            self.message=str(e)\n",
    "            return False\n",
    "            \n",
    "\n",
    "\n",
    "class AdminOnly(BasePermission):\n",
    "    message='You are not authorized to access this page'\n",
    "    def has_permission(self, request, view):\n",
    "        if ProfileRole.objects.filter(user__user__username=request.user,role__role='Admin').count() >0:\n",
    "            return True\n",
    "\n",
    "class IsOwnerProfile(BasePermission):\n",
    "    message='You are not authorized to update this data'\n",
    "    def has_object_permission(self, request, view, obj):\n",
    "        if not request.user.is_authenticated:\n",
    "            return False\n",
    "        if str(request.method) in view.IsOwner_method:\n",
    "            return obj.user.username == request.user.username\n",
    "        # Instance must have an attribute named `owner`.\n",
    "        return True\n",
    "\n"
   ]
  },
  {
   "cell_type": "code",
   "execution_count": null,
   "metadata": {},
   "outputs": [],
   "source": [
    "Profile.objects.update()"
   ]
  },
  {
   "cell_type": "code",
   "execution_count": 12,
   "metadata": {},
   "outputs": [
    {
     "ename": "TypeError",
     "evalue": "exceptions must derive from BaseException",
     "output_type": "error",
     "traceback": [
      "\u001b[1;31m---------------------------------------------------------------------------\u001b[0m",
      "\u001b[1;31mTypeError\u001b[0m                                 Traceback (most recent call last)",
      "\u001b[1;32m<ipython-input-12-1fbac30db466>\u001b[0m in \u001b[0;36m<module>\u001b[1;34m()\u001b[0m\n\u001b[1;32m----> 1\u001b[1;33m \u001b[1;32mraise\u001b[0m \u001b[1;34m\"sss\"\u001b[0m\u001b[1;33m\u001b[0m\u001b[0m\n\u001b[0m",
      "\u001b[1;31mTypeError\u001b[0m: exceptions must derive from BaseException"
     ]
    }
   ],
   "source": [
    "raise \"sss\""
   ]
  },
  {
   "cell_type": "code",
   "execution_count": 14,
   "metadata": {},
   "outputs": [],
   "source": [
    "module_id=Module.objects.get(module='Section').id\n",
    "username='admin'"
   ]
  },
  {
   "cell_type": "code",
   "execution_count": 17,
   "metadata": {},
   "outputs": [
    {
     "ename": "AttributeError",
     "evalue": "'NoneType' object has no attribute 'filter_set'",
     "output_type": "error",
     "traceback": [
      "\u001b[1;31m---------------------------------------------------------------------------\u001b[0m",
      "\u001b[1;31mAttributeError\u001b[0m                            Traceback (most recent call last)",
      "\u001b[1;32m<ipython-input-17-d876cc846b78>\u001b[0m in \u001b[0;36m<module>\u001b[1;34m()\u001b[0m\n\u001b[0;32m      1\u001b[0m \u001b[0mscope\u001b[0m\u001b[1;33m=\u001b[0m\u001b[0mfundamental\u001b[0m\u001b[1;33m(\u001b[0m\u001b[1;33m)\u001b[0m\u001b[1;33m.\u001b[0m\u001b[0muser_role_permission\u001b[0m\u001b[1;33m(\u001b[0m\u001b[0musername\u001b[0m\u001b[1;33m)\u001b[0m\u001b[1;33m[\u001b[0m\u001b[1;34m'permissions'\u001b[0m\u001b[1;33m]\u001b[0m\u001b[1;33m[\u001b[0m\u001b[0mmodule_id\u001b[0m\u001b[1;33m]\u001b[0m\u001b[1;33m[\u001b[0m\u001b[1;34m'scope'\u001b[0m\u001b[1;33m]\u001b[0m\u001b[1;33m\u001b[0m\u001b[0m\n\u001b[0;32m      2\u001b[0m \u001b[0mscope_instance\u001b[0m\u001b[1;33m=\u001b[0m\u001b[0mscope\u001b[0m\u001b[1;31m#Scope.objects.get(id=scope.id)\u001b[0m\u001b[1;33m\u001b[0m\u001b[0m\n\u001b[1;32m----> 3\u001b[1;33m \u001b[0mfilter_set\u001b[0m\u001b[1;33m=\u001b[0m\u001b[0mscope_instance\u001b[0m\u001b[1;33m.\u001b[0m\u001b[0mfilter_set\u001b[0m\u001b[1;33m\u001b[0m\u001b[0m\n\u001b[0m\u001b[0;32m      4\u001b[0m \u001b[1;31m# exec('auto_value='+str(scope_instance.value))\u001b[0m\u001b[1;33m\u001b[0m\u001b[1;33m\u001b[0m\u001b[0m\n\u001b[0;32m      5\u001b[0m \u001b[1;31m# if isinstance(auto_value, str):\u001b[0m\u001b[1;33m\u001b[0m\u001b[1;33m\u001b[0m\u001b[0m\n",
      "\u001b[1;31mAttributeError\u001b[0m: 'NoneType' object has no attribute 'filter_set'"
     ]
    }
   ],
   "source": [
    "scope=fundamental().user_role_permission(username)['permissions'][module_id]['scope']\n",
    "scope_instance=scope#Scope.objects.get(id=scope.id)\n",
    "# filter_set=scope_instance.filter_set\n",
    "# # exec('auto_value='+str(scope_instance.value))\n",
    "# # if isinstance(auto_value, str):\n",
    "# #     filter_string=filter_set+'='+'\"'+auto_value+'\"'\n",
    "# # str1=fundamental().get_class_name(module)+'.objects.filter('+filter_string+')'\n",
    "# # str1='query_set='+str1\n",
    "# # print(str1)\n",
    "# # #  exec(str1)"
   ]
  },
  {
   "cell_type": "code",
   "execution_count": 19,
   "metadata": {},
   "outputs": [],
   "source": [
    "a='user=Profile.objects.all()'"
   ]
  },
  {
   "cell_type": "code",
   "execution_count": 20,
   "metadata": {},
   "outputs": [],
   "source": [
    "exec(a)"
   ]
  },
  {
   "cell_type": "code",
   "execution_count": 21,
   "metadata": {},
   "outputs": [
    {
     "data": {
      "text/plain": [
       "<QuerySet [<Profile: admin>]>"
      ]
     },
     "execution_count": 21,
     "metadata": {},
     "output_type": "execute_result"
    }
   ],
   "source": [
    "user"
   ]
  },
  {
   "cell_type": "code",
   "execution_count": null,
   "metadata": {},
   "outputs": [],
   "source": []
  }
 ],
 "metadata": {
  "kernelspec": {
   "display_name": "Django Shell-Plus",
   "language": "python",
   "name": "django_extensions"
  },
  "language_info": {
   "codemirror_mode": {
    "name": "ipython",
    "version": 3
   },
   "file_extension": ".py",
   "mimetype": "text/x-python",
   "name": "python",
   "nbconvert_exporter": "python",
   "pygments_lexer": "ipython3",
   "version": "3.6.5"
  }
 },
 "nbformat": 4,
 "nbformat_minor": 2
}
