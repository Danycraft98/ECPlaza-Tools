{
 "cells": [
  {
   "cell_type": "code",
   "execution_count": 4,
   "metadata": {},
   "outputs": [],
   "source": [
    "#python manage.py shell_plus --notebook\n",
    "import os, sys\n",
    "os.chdir(os.path.dirname(os.path.realpath('.')))\n",
    "sys.path.insert(0, os.getenv('PWD'))\n",
    "os.environ.setdefault(\"DJANGO_SETTINGS_MODULE\", \"local_settings.py\")\n",
    "import django\n",
    "django.setup()"
   ]
  },
  {
   "cell_type": "code",
   "execution_count": 2,
   "metadata": {},
   "outputs": [],
   "source": [
    "from users.common import *\n",
    "from users.models import *"
   ]
  },
  {
   "cell_type": "code",
   "execution_count": null,
   "metadata": {},
   "outputs": [],
   "source": [
    "from users.common import *\n",
    "\n",
    "class get_query(object):\n",
    "    def queryset(self):\n",
    "        module=self.model\n",
    "#         if not self.request.user.is_authenticated:\n",
    "#             print('#########user not logged in#########')\n",
    "#             return module.objects.none()\n",
    "        self.section=ProfileRole.objects.get(user__user__username=self.username).depertment\n",
    "        print(self.username,self.model_id)\n",
    "        try:\n",
    "            if self.section.id:\n",
    "                query_set=Scope.objects.get(module__id=self.model_id).query_set\n",
    "                self.section_id=self.section.id\n",
    "                print('self.section_id',self.section_id)\n",
    "                query_set='self.query_set='+query_set\n",
    "                print(query_set)\n",
    "                exec(query_set)\n",
    "                return self.query_set\n",
    "        except Exception as e:\n",
    "            print(e)\n",
    "            try:\n",
    "                if self.section == None:\n",
    "                    print('#########user has all perm#########')\n",
    "                    return self.model.objects.all()\n",
    "            except Exception as e:\n",
    "                print(e)\n",
    "                print('#########user not permitted#########')\n",
    "                return self.model.objects.none()\n",
    "            \n",
    "#     def __init__(self,request,model):\n",
    "#         self.model=model\n",
    "#         self.request=request\n",
    "#         self.model_name=fundamental().get_class_name(model)\n",
    "#         self.model_id=fundamental().get_model_id(model)\n",
    "#         self.method=request.method\n",
    "#         self.models=fundamental().get_all_models()\n",
    "#         if request.user.is_authenticated:\n",
    "#             self.user=request.user\n",
    "#             self.username=request.user.username\n",
    "#             self.role_id=fundamental().get_role_id(self.username)\n",
    "#             self.role_name=fundamental().get_role_name(self.username)\n",
    "#             self.section=ProfileRole.objects.get(user__user__username=self.username).depertment\n",
    "            \n",
    "    def __init__(self,model,method,username):\n",
    "        self.model=model\n",
    "        self.model_name=fundamental().get_class_name(model)\n",
    "        self.model_id=fundamental().get_model_id(model)\n",
    "        self.method=method\n",
    "        self.models=fundamental().get_all_models()\n",
    "        self.username=username\n",
    "        self.role_id=fundamental().get_role_id(self.username)\n",
    "        self.role_name=fundamental().get_role_name(self.username)\n",
    "        self.section=ProfileRole.objects.get(user__user__username=self.username).depertment\n"
   ]
  },
  {
   "cell_type": "code",
   "execution_count": null,
   "metadata": {},
   "outputs": [],
   "source": [
    "get_query(Test,'GET','mojo').queryset()"
   ]
  },
  {
   "cell_type": "code",
   "execution_count": 107,
   "metadata": {},
   "outputs": [
    {
     "data": {
      "text/plain": [
       "<QuerySet [<Test: Milk->Protein>, <Test: Milk->Carbs>]>"
      ]
     },
     "execution_count": 107,
     "metadata": {},
     "output_type": "execute_result"
    }
   ],
   "source": [
    "a=1\n",
    "stra='query_set=Test.objects.filter(section__id=a)'\n",
    "exec(stra)\n",
    "query_set"
   ]
  },
  {
   "cell_type": "code",
   "execution_count": null,
   "metadata": {},
   "outputs": [],
   "source": [
    "country_name='India'\n",
    "avg_age=26"
   ]
  },
  {
   "cell_type": "code",
   "execution_count": null,
   "metadata": {},
   "outputs": [],
   "source": [
    "'name=country_name'\n",
    "'age=avg_age'\n",
    "'defence_budget=budget'"
   ]
  },
  {
   "cell_type": "code",
   "execution_count": null,
   "metadata": {},
   "outputs": [],
   "source": [
    "'model.objects.filter('+'name=country_name'+')'"
   ]
  },
  {
   "cell_type": "code",
   "execution_count": 5,
   "metadata": {},
   "outputs": [],
   "source": [
    "from users.filter import *"
   ]
  },
  {
   "cell_type": "code",
   "execution_count": 6,
   "metadata": {},
   "outputs": [
    {
     "data": {
      "text/plain": [
       "<QuerySet [<Section: Fried Snacks>]>"
      ]
     },
     "execution_count": 6,
     "metadata": {},
     "output_type": "execute_result"
    }
   ],
   "source": [
    "Section.objects.filter(id=4)"
   ]
  },
  {
   "cell_type": "code",
   "execution_count": null,
   "metadata": {},
   "outputs": [],
   "source": []
  }
 ],
 "metadata": {
  "kernelspec": {
   "display_name": "Django Shell-Plus",
   "language": "python",
   "name": "django_extensions"
  },
  "language_info": {
   "codemirror_mode": {
    "name": "ipython",
    "version": 3
   },
   "file_extension": ".py",
   "mimetype": "text/x-python",
   "name": "python",
   "nbconvert_exporter": "python",
   "pygments_lexer": "ipython3",
   "version": "3.6.5"
  }
 },
 "nbformat": 4,
 "nbformat_minor": 2
}
