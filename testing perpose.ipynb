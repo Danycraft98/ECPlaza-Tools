{
 "cells": [
  {
   "cell_type": "code",
   "execution_count": 1,
   "metadata": {},
   "outputs": [],
   "source": [
    "#python manage.py shell_plus --notebook\n",
    "import os, sys\n",
    "os.chdir(os.path.dirname(os.path.realpath('.')))\n",
    "sys.path.insert(0, os.getenv('PWD'))\n",
    "os.environ.setdefault(\"DJANGO_SETTINGS_MODULE\", \"local_settings.py\")\n",
    "import django\n",
    "django.setup()"
   ]
  },
  {
   "cell_type": "code",
   "execution_count": 2,
   "metadata": {},
   "outputs": [],
   "source": [
    "from rest_framework.permissions import BasePermission\n",
    "from django.contrib.auth.models import User\n",
    "from django.contrib.auth import authenticate\n",
    "from users.models import *"
   ]
  },
  {
   "cell_type": "code",
   "execution_count": 3,
   "metadata": {},
   "outputs": [],
   "source": [
    "from lims.models import *"
   ]
  },
  {
   "cell_type": "code",
   "execution_count": 4,
   "metadata": {
    "collapsed": true
   },
   "outputs": [
    {
     "data": {
      "text/plain": [
       "{1: {'role_name': 'Admin',\n",
       "  'permissions': {1: {'module': 'Section',\n",
       "    'create': True,\n",
       "    'read': True,\n",
       "    'update': True,\n",
       "    'delete': True,\n",
       "    'type': 'FullAccess'},\n",
       "   2: {'module': 'Test',\n",
       "    'create': True,\n",
       "    'read': True,\n",
       "    'update': True,\n",
       "    'delete': True,\n",
       "    'type': 'FullAccess'},\n",
       "   3: {'module': 'Field',\n",
       "    'create': True,\n",
       "    'read': True,\n",
       "    'update': True,\n",
       "    'delete': True,\n",
       "    'type': 'FullAccess'},\n",
       "   4: {'module': 'Client',\n",
       "    'create': True,\n",
       "    'read': True,\n",
       "    'update': True,\n",
       "    'delete': True,\n",
       "    'type': 'FullAccess'},\n",
       "   5: {'module': 'Sample',\n",
       "    'create': True,\n",
       "    'read': True,\n",
       "    'update': True,\n",
       "    'delete': True,\n",
       "    'type': 'FullAccess'},\n",
       "   6: {'module': 'SampleTest',\n",
       "    'create': True,\n",
       "    'read': True,\n",
       "    'update': True,\n",
       "    'delete': True,\n",
       "    'type': 'FullAccess'},\n",
       "   7: {'module': 'ResultFields',\n",
       "    'create': True,\n",
       "    'read': True,\n",
       "    'update': True,\n",
       "    'delete': True,\n",
       "    'type': 'FullAccess'},\n",
       "   8: {'module': 'SampleTestStatus',\n",
       "    'create': True,\n",
       "    'read': True,\n",
       "    'update': True,\n",
       "    'delete': True,\n",
       "    'type': 'FullAccess'}}}}"
      ]
     },
     "execution_count": 4,
     "metadata": {},
     "output_type": "execute_result"
    }
   ],
   "source": [
    "my_methods=['GET','POST','PUT','DELETE']\n",
    "username='admin'\n",
    "profile_roles = ProfileRole.objects.filter(user__user__username=username)\n",
    "roles = {}\n",
    "for profile_role in profile_roles:\n",
    "    role_perm=RolePermission.objects.filter(role=profile_role.role)\n",
    "    model_perm = {}\n",
    "    for permission_set in role_perm:\n",
    "        module = Module.objects.get(id=permission_set.module_id).module\n",
    "        model_perm[permission_set.module_id] = {}\n",
    "        model_perm[permission_set.module_id]['module'] = module\n",
    "        model_perm[permission_set.module_id]['create'] = permission_set.create\n",
    "        model_perm[permission_set.module_id]['read'] = permission_set.read\n",
    "        model_perm[permission_set.module_id]['update'] = permission_set.update\n",
    "        model_perm[permission_set.module_id]['delete'] = permission_set.delete\n",
    "        model_perm[permission_set.module_id]['type'] = permission_set.type\n",
    "    roles[profile_role.role.id] = {}\n",
    "    roles[profile_role.role.id]['role_name']=profile_role.role.role\n",
    "    #roles['role_id']=profile_role.role.id\n",
    "    roles[profile_role.role.id]['permissions']=model_perm\n",
    "roles"
   ]
  },
  {
   "cell_type": "code",
   "execution_count": null,
   "metadata": {},
   "outputs": [],
   "source": [
    "# if section:\n",
    "#     if test:\n",
    "if section == 'SampleTest':#/sample_test/sample/sample_id#,/sample_test/test/test_id\n",
    "    if sample_test_type='sample':\n",
    "        if request.method=='GET':\n",
    "            return roles[role_id]['permissions'][section]['read']        "
   ]
  },
  {
   "cell_type": "code",
   "execution_count": null,
   "metadata": {},
   "outputs": [],
   "source": [
    "if section is in ['Section','Test','Field','Client','Sample','SampleTest','ResultFields','SampleTestStatus']:\n",
    "    if request.method=='GET' and id:\n",
    "        return roles[role_id]['permissions'][section]['read']\n",
    "    elif request.method=='GET':\n",
    "        return roles[role_id]['permissions'][section]['read']\n",
    "    elif request.method=='PUT':\n",
    "        return roles[role_id]['permissions'][section]['update']\n",
    "    elif request.method=='POST':\n",
    "        return roles[role_id]['permissions'][section]['create']\n",
    "    elif request.method=='DELETE':\n",
    "        return roles[role_id]['permissions'][section]['delete'] "
   ]
  },
  {
   "cell_type": "code",
   "execution_count": null,
   "metadata": {},
   "outputs": [],
   "source": [
    "def generate_queryset():\n",
    "    if module =='Section'\n",
    "        query_set=Section.objects.all()\n",
    "    elif module=='Test' and :\n",
    "        query_set=Test.objects.all()\n",
    "    elif module=='Test' and section:\n",
    "        query_set=Test.objects.filter(module__id=section)\n",
    "    elif module=='Field':\n",
    "        query_set=Field.objects.all()\n",
    "    elif module=='Field' and section and section:\n",
    "        query_set=Field.objects.filter(test__module__id=section)\n",
    "    elif module=='Client':\n",
    "        query_set=Client.objects.all()\n",
    "    elif module=='Sample':\n",
    "        query_set=Sample.objects.all()\n",
    "    elif module=='SampleTest':\n",
    "        query_set=SampleTest.objects.all()\n",
    "    elif module=='SampleTest' and section:\n",
    "        query_set=SampleTest.objects.filter(test__module__id=section)\n",
    "    elif module=='ResultFields':\n",
    "        query_set=ResultFields.objects.all()\n",
    "    elif module=='ResultFields' and section:\n",
    "        query_set=ResultFields.objects.filter(test__module__id=section)\n",
    "    elif module=='SampleTestStatus':\n",
    "        query_set=SampleTestStatus.objects.all()\n",
    "    elif module=='SampleTestStatus' and section:\n",
    "        query_set=SampleTestStatus.objects.filter(test__module__id=section)"
   ]
  },
  {
   "cell_type": "code",
   "execution_count": null,
   "metadata": {},
   "outputs": [],
   "source": [
    "section->user\n",
    "All->Admin\n",
    "All->Reciptionist\n",
    "All->\n",
    "Milk->\n",
    "Fried->"
   ]
  },
  {
   "cell_type": "code",
   "execution_count": null,
   "metadata": {},
   "outputs": [],
   "source": [
    "Type:Section , Owner, belongs\n",
    "table section\n",
    "\n",
    "class Scope(models.Model):\n",
    "    scope = models.CharField(max_length=50, default = 'All')#\n",
    "    date_updated = models.DateTimeField(default=dt.datetime.now(), blank=True)\n",
    "    created_by = models.ForeignKey(User, on_delete=models.PROTECT,  related_name='Sample_created_by', blank=True,null=True)\n",
    "    updated_by = models.ForeignKey(User, on_delete=models.PROTECT,  related_name='Sample_updated_by', blank=True,null=True)\n",
    "    def __str__(self):\n",
    "        return self.scope\n",
    "\n",
    "request.user"
   ]
  },
  {
   "cell_type": "code",
   "execution_count": null,
   "metadata": {},
   "outputs": [],
   "source": [
    "test if permission is in test and section = Null\n",
    "test/id\n",
    "test/section permission is in test_section and section = section\n",
    "test/section/id"
   ]
  }
 ],
 "metadata": {
  "kernelspec": {
   "display_name": "Django Shell-Plus",
   "language": "python",
   "name": "django_extensions"
  },
  "language_info": {
   "codemirror_mode": {
    "name": "ipython",
    "version": 3
   },
   "file_extension": ".py",
   "mimetype": "text/x-python",
   "name": "python",
   "nbconvert_exporter": "python",
   "pygments_lexer": "ipython3",
   "version": "3.6.5"
  }
 },
 "nbformat": 4,
 "nbformat_minor": 2
}
